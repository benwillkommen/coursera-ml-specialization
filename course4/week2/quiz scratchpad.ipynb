{
 "cells": [
  {
   "cell_type": "code",
   "execution_count": 1,
   "metadata": {
    "collapsed": true
   },
   "outputs": [],
   "source": [
    "import math\n",
    "import numpy as np\n",
    "\n",
    "data = np.array([[-1.88, 2.05],[-.71, .42],[2.41, -.67],[1.85, -3.8],[-3.69, -1.33]])"
   ]
  },
  {
   "cell_type": "code",
   "execution_count": 2,
   "metadata": {
    "collapsed": false
   },
   "outputs": [
    {
     "name": "stdout",
     "output_type": "stream",
     "text": [
      "c1 to d0: 2.32699376879\n",
      "c2 to d0: 4.71379093724\n",
      "\n",
      "c1 to d1: 0.674462749157\n",
      "c2 to d1: 2.99237781705\n",
      "\n",
      "c1 to d2: 2.77737285938\n",
      "c2 to d2: 3.8314390247\n",
      "\n",
      "c1 to d3: 4.79667593235\n",
      "c2 to d3: 3.03284107727\n",
      "\n",
      "c1 to d4: 4.1111798793\n",
      "c2 to d4: 3.03284107727\n",
      "\n"
     ]
    }
   ],
   "source": [
    "c1 = np.array([ -0.06,  0.6 ])\n",
    "c2 = np.array([-0.92, -2.565])\n",
    "\n",
    "for i, d in enumerate(data):\n",
    "    distance_to_c1 = math.sqrt(math.pow(c1[0] - d[0], 2) + math.pow(c1[1] - d[1], 2))\n",
    "    distance_to_c2 = math.sqrt(math.pow(c2[0] - d[0], 2) + math.pow(c2[1] - d[1], 2))\n",
    "    print \"c1 to d{0}: {1}\".format(i, distance_to_c1)\n",
    "    print \"c2 to d{0}: {1}\".format(i, distance_to_c2)\n",
    "    print \"\""
   ]
  },
  {
   "cell_type": "code",
   "execution_count": 3,
   "metadata": {
    "collapsed": false
   },
   "outputs": [
    {
     "name": "stdout",
     "output_type": "stream",
     "text": [
      "[[-1.88  2.05]\n",
      " [-0.71  0.42]\n",
      " [ 2.41 -0.67]]\n",
      "new c1:  [-0.06  0.6 ]\n",
      "new c2: [-0.92  -2.565]\n"
     ]
    }
   ],
   "source": [
    "cluster1 = np.array([data[0],data[1],data[2]])\n",
    "print cluster1\n",
    "#print np.sum(cluster1, axis=0)\n",
    "print \"new c1: \", np.sum(cluster1, axis=0)/cluster1.shape[0]\n",
    "\n",
    "cluster2 = np.array([data[3], data[4]])\n",
    "#print cluster2\n",
    "#print np.sum(cluster2, axis=0)\n",
    "print \"new c2:\", np.sum(cluster2, axis=0)/cluster2.shape[0]"
   ]
  },
  {
   "cell_type": "code",
   "execution_count": null,
   "metadata": {
    "collapsed": true
   },
   "outputs": [],
   "source": []
  }
 ],
 "metadata": {
  "kernelspec": {
   "display_name": "Python 2",
   "language": "python",
   "name": "python2"
  },
  "language_info": {
   "codemirror_mode": {
    "name": "ipython",
    "version": 2
   },
   "file_extension": ".py",
   "mimetype": "text/x-python",
   "name": "python",
   "nbconvert_exporter": "python",
   "pygments_lexer": "ipython2",
   "version": "2.7.11"
  }
 },
 "nbformat": 4,
 "nbformat_minor": 0
}
