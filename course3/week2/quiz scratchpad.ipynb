{
 "cells": [
  {
   "cell_type": "code",
   "execution_count": 1,
   "metadata": {
    "collapsed": true
   },
   "outputs": [],
   "source": [
    "import numpy as np"
   ]
  },
  {
   "cell_type": "code",
   "execution_count": 2,
   "metadata": {
    "collapsed": false
   },
   "outputs": [
    {
     "data": {
      "text/plain": [
       "2.7182818284590451"
      ]
     },
     "execution_count": 2,
     "metadata": {},
     "output_type": "execute_result"
    }
   ],
   "source": [
    "np.exp(1)"
   ]
  },
  {
   "cell_type": "code",
   "execution_count": 15,
   "metadata": {
    "collapsed": false
   },
   "outputs": [
    {
     "name": "stdout",
     "output_type": "stream",
     "text": [
      "[[0]\n",
      " [1]]\n",
      "[[ 0.   2.5]\n",
      " [ 0.   0.3]\n",
      " [ 0.   2.8]\n",
      " [ 0.   0.5]]\n",
      "[[ 2.5  0.3  2.8  0.5]]\n"
     ]
    }
   ],
   "source": [
    "w = np.array([[0, 1]])\n",
    "x = np.array([[1, 2.5],\n",
    "             [1, 0.3],\n",
    "             [1, 2.8],\n",
    "             [1, 0.5]])\n",
    "print np.transpose(w)\n",
    "print w * x\n",
    "print np.dot(w, np.transpose(x))\n",
    "#1/(1 + (np.exp()))"
   ]
  },
  {
   "cell_type": "code",
   "execution_count": 25,
   "metadata": {
    "collapsed": false
   },
   "outputs": [
    {
     "name": "stdout",
     "output_type": "stream",
     "text": [
      "0.924141819979\n",
      "0.574442516812\n",
      "0.942675824101\n",
      "0.622459331202\n"
     ]
    },
    {
     "data": {
      "text/plain": [
       "0.23076514147414118"
      ]
     },
     "execution_count": 25,
     "metadata": {},
     "output_type": "execute_result"
    }
   ],
   "source": [
    "def logistic(x):\n",
    "    return 1/(1 + (np.exp(-x)))\n",
    "\n",
    "print logistic(2.5)\n",
    "print logistic(.3)\n",
    "print logistic(2.8)\n",
    "print logistic(.5)\n",
    "\n",
    "\n",
    "logistic(2.5) * (1 - logistic(0.3)) *  logistic(2.8) *  logistic(0.5)"
   ]
  },
  {
   "cell_type": "code",
   "execution_count": 24,
   "metadata": {
    "collapsed": false
   },
   "outputs": [
    {
     "data": {
      "text/plain": [
       "0.36659072192551606"
      ]
     },
     "execution_count": 24,
     "metadata": {},
     "output_type": "execute_result"
    }
   ],
   "source": [
    "2.5*(1 - logistic(2.5)) + 0.3 * (0 - logistic(0.3)) + 2.8 * (1 - logistic(2.8)) + 0.5*(1-logistic(0.5))"
   ]
  },
  {
   "cell_type": "code",
   "execution_count": null,
   "metadata": {
    "collapsed": true
   },
   "outputs": [],
   "source": []
  }
 ],
 "metadata": {
  "kernelspec": {
   "display_name": "Python 2",
   "language": "python",
   "name": "python2"
  },
  "language_info": {
   "codemirror_mode": {
    "name": "ipython",
    "version": 2
   },
   "file_extension": ".py",
   "mimetype": "text/x-python",
   "name": "python",
   "nbconvert_exporter": "python",
   "pygments_lexer": "ipython2",
   "version": "2.7.11"
  }
 },
 "nbformat": 4,
 "nbformat_minor": 0
}
